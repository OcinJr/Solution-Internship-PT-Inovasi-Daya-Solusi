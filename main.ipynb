{
 "cells": [
  {
   "cell_type": "code",
   "execution_count": 324,
   "id": "0cbec8fd",
   "metadata": {},
   "outputs": [],
   "source": [
    "import pandas as pd\n",
    "import os\n",
    "import json\n",
    "import numpy as np"
   ]
  },
  {
   "cell_type": "code",
   "execution_count": 325,
   "id": "b0e51493",
   "metadata": {},
   "outputs": [
    {
     "name": "stdout",
     "output_type": "stream",
     "text": [
      "\n",
      " ================================================No.1================================================\n"
     ]
    }
   ],
   "source": [
    "no1 = \"No.1\"\n",
    "no1 = no1.center(100,\"=\")\n",
    "print(f\"\\n\",no1)"
   ]
  },
  {
   "cell_type": "code",
   "execution_count": 326,
   "id": "1155e7b6",
   "metadata": {},
   "outputs": [],
   "source": [
    "# create a function to load all the JSON files inside a folder and normalize them then append the files into a data_list\n",
    "def load_and_normalize(folder_path):\n",
    "    data_list = []\n",
    "\n",
    "    # loop into the folder, scanning all the files inside the folder\n",
    "    for filename in os.listdir(folder_path):\n",
    "        file_path = os.path.join(folder_path, filename)\n",
    "        with open(file_path,\"r\") as f:\n",
    "            data = json.load(f)\n",
    "            data_list.append(data)\n",
    "            \n",
    "    # normalize the datas inside data_list and update the data_list directly\n",
    "    data_list = pd.json_normalize(data_list)\n",
    "    \n",
    "    # sort the datas inside data_list ny id and ts(timestamp)\n",
    "    data_list = data_list.sort_values(by=[\"id\",\"ts\"])\n",
    "    \n",
    "    return data_list"
   ]
  },
  {
   "cell_type": "code",
   "execution_count": 327,
   "id": "18c1c39c",
   "metadata": {},
   "outputs": [],
   "source": [
    "data_folder = os.environ.get(\"DATA_FOLDER\", \"./data\")\n",
    "accounts_path = os.path.join(data_folder,\"accounts\")\n",
    "cards_path = os.path.join(data_folder,\"cards\")\n",
    "savings_accounts_path = os.path.join(data_folder,\"savings_accounts\")"
   ]
  },
  {
   "cell_type": "code",
   "execution_count": 328,
   "id": "ae911e0a",
   "metadata": {},
   "outputs": [
    {
     "name": "stdout",
     "output_type": "stream",
     "text": [
      "\n",
      "ACCOUNTS:\n",
      "       timestamp account_id     name   address phone_number                    email savings_account_id card_id\n",
      "0  1577863800000         a1  Anthony  New York     12345678     anthony@somebank.com                NaN     NaN\n",
      "1  1577865600000         a1  Anthony  New York     87654321     anthony@somebank.com                NaN     NaN\n",
      "2  1577890800000         a1  Anthony  New York     87654321     anthony@somebank.com                sa1     NaN\n",
      "3  1577894400000         a1  Anthony   Jakarta     87654321  anthony@anotherbank.com                sa1     NaN\n",
      "4  1577926800000         a1  Anthony   Jakarta     87654321  anthony@anotherbank.com                sa1      c1\n",
      "5  1579078860000         a1  Anthony   Jakarta     87654321  anthony@anotherbank.com                sa1        \n",
      "6  1579163400000         a1  Anthony   Jakarta     87654321  anthony@anotherbank.com                sa1      c2\n"
     ]
    }
   ],
   "source": [
    "# Feeling dataframe \"df_accounts\" with all the JSON data files located in \"./data/accounts\" using load_and_normalize function\n",
    "df_accounts = load_and_normalize(\"./data/accounts\")\n",
    "\n",
    "# renaming and combining the features/columns\n",
    "df_accounts[\"timestamp\"] = df_accounts[\"ts\"]\n",
    "df_accounts[\"account_id\"] = df_accounts[\"data.account_id\"]\n",
    "df_accounts[\"name\"] = df_accounts[\"data.name\"]\n",
    "df_accounts[\"email\"] = df_accounts[\"set.email\"].combine_first(df_accounts[\"data.email\"])\n",
    "df_accounts[\"savings_account_id\"] = df_accounts[\"set.savings_account_id\"]\n",
    "df_accounts[\"card_id\"] = df_accounts[\"set.card_id\"]\n",
    "\n",
    "# combine only if there is a \"set\" column where it represents an update on the data with the same \"name\"\n",
    "# combining column \"set.address\" with \"data.address\" into a new column named \"address\"\n",
    "df_accounts[\"address\"] = df_accounts[\"set.address\"].combine_first(df_accounts[\"data.address\"])\n",
    "\n",
    "# combining column \"set.phone_number\" with \"data.phone_number\" into a new column named \"phone_number\"\n",
    "df_accounts[\"phone_number\"] = df_accounts[\"set.phone_number\"].combine_first(df_accounts[\"data.phone_number\"])\n",
    "\n",
    "# choosing the needed columns that\"s been cleaned\n",
    "cols = [\"id\",\"timestamp\",\"account_id\",\"name\",\"address\",\"phone_number\",\"email\",\"savings_account_id\",\"card_id\"]\n",
    "df_accounts = df_accounts[cols]\n",
    "\n",
    "# grouping all the datas by using \"id\" as reference and feeling the empty data with the the ones above it (updating from the previous data\n",
    "df_accounts = df_accounts.groupby(\"id\").ffill()\n",
    "\n",
    "print(\"\\nACCOUNTS:\")\n",
    "print(df_accounts.to_string())"
   ]
  },
  {
   "cell_type": "code",
   "execution_count": 329,
   "id": "1f3f1f1f",
   "metadata": {},
   "outputs": [
    {
     "name": "stdout",
     "output_type": "stream",
     "text": [
      "\n",
      "CARDS:\n",
      "       timestamp card_id card_number  credit_used  monthly_limit   status\n",
      "0  1577926800000      c1    11112222          0.0        30000.0  PENDING\n",
      "1  1578159000000      c1    11112222          0.0        30000.0   ACTIVE\n",
      "2  1578313800000      c1    11112222      12000.0        30000.0   ACTIVE\n",
      "3  1578420000000      c1    11112222      19000.0        30000.0   ACTIVE\n",
      "4  1578654000000      c1    11112222          0.0        30000.0   ACTIVE\n",
      "5  1579078800000      c1    11112222          0.0        30000.0   CLOSED\n",
      "6  1579163400000      c2    12123434          0.0        70000.0  PENDING\n",
      "7  1579298400000      c2    12123434          0.0        70000.0   ACTIVE\n",
      "8  1579361400000      c2    12123434      37000.0        70000.0   ACTIVE\n"
     ]
    }
   ],
   "source": [
    "# Feeling dataframe \"df_accounts\" with all the JSON data files located in \"./data/cards\" using load_and_normalize function\n",
    "df_cards = load_and_normalize(\"./data/cards\")\n",
    "\n",
    "# renaming and combining the features/columns\n",
    "df_cards[\"timestamp\"] = df_cards[\"ts\"]\n",
    "df_cards[\"card_id\"] = df_cards[\"data.card_id\"]\n",
    "df_cards[\"card_number\"] = df_cards[\"data.card_number\"]\n",
    "df_cards[\"monthly_limit\"] = df_cards[\"data.monthly_limit\"]\n",
    "\n",
    "# combine only if there is a \"set\" column where it represents an update on the data with the same \"name\"\n",
    "# combining column \"set.credit_used\" with \"data.credit_used\" into a new column named \"credit_used\"\n",
    "df_cards[\"credit_used\"] = df_cards[\"set.credit_used\"].combine_first(df_cards[\"data.credit_used\"])\n",
    "\n",
    "# combining column \"set.status\" with \"data.status\" into a new column named \"status\"\n",
    "df_cards[\"status\"] = df_cards[\"set.status\"].combine_first(df_cards[\"data.status\"])\n",
    "\n",
    "# choosing the needed columns that\"s been cleaned\n",
    "cols = [\"id\",\"timestamp\",\"card_id\",\"card_number\",\"credit_used\",\"monthly_limit\",\"status\"]\n",
    "df_cards = df_cards[cols]\n",
    "\n",
    "# grouping all the datas by using \"id\" as reference and feeling the empty data with the the ones above it (updating from the previous data\n",
    "df_cards = df_cards.groupby(\"id\").ffill()\n",
    "\n",
    "print(\"\\nCARDS:\")\n",
    "print(df_cards.to_string())"
   ]
  },
  {
   "cell_type": "code",
   "execution_count": 330,
   "id": "a46ff369",
   "metadata": {},
   "outputs": [
    {
     "name": "stdout",
     "output_type": "stream",
     "text": [
      "\n",
      "SAVING ACCOUNTS:\n",
      "       timestamp savings_account_id  balance  interest_rate_percent  status\n",
      "0  1577890800000                sa1      0.0                    1.5  ACTIVE\n",
      "1  1577955600000                sa1  15000.0                    1.5  ACTIVE\n",
      "2  1578159060000                sa1  15000.0                    3.0  ACTIVE\n",
      "3  1578648600000                sa1  40000.0                    3.0  ACTIVE\n",
      "4  1578654000000                sa1  21000.0                    3.0  ACTIVE\n",
      "5  1579078860000                sa1  21000.0                    1.5  ACTIVE\n",
      "6  1579298460000                sa1  21000.0                    4.0  ACTIVE\n",
      "7  1579505400000                sa1  33000.0                    4.0  ACTIVE\n"
     ]
    }
   ],
   "source": [
    "# Feeling dataframe \"df_accounts\" with all the JSON data files located in \"./data/cards\" using load_and_normalize function\n",
    "df_saving_accounts = load_and_normalize(\"./data/savings_accounts\")\n",
    "\n",
    "# renaming and combining the features/columns\n",
    "df_saving_accounts[\"timestamp\"] = df_saving_accounts[\"ts\"]\n",
    "df_saving_accounts[\"savings_account_id\"] = df_saving_accounts[\"data.savings_account_id\"]\n",
    "df_saving_accounts[\"status\"] = df_saving_accounts[\"data.status\"]\n",
    "\n",
    "# combine only if there is a \"set\" column where it represents an update on the data with the same \"name\"\n",
    "# combining column \"set.balance\" with \"data.balance\" into a new column named \"balance\"\n",
    "df_saving_accounts[\"balance\"] = df_saving_accounts[\"set.balance\"].combine_first(df_saving_accounts[\"data.balance\"])\n",
    "\n",
    "# combining column \"set.interest_rate_percent\" with \"data.interest_rate_percent\" into a new column named \"interest_rate_percent\"\n",
    "df_saving_accounts[\"interest_rate_percent\"] = df_saving_accounts[\"set.interest_rate_percent\"].combine_first(df_saving_accounts[\"data.interest_rate_percent\"])\n",
    "\n",
    "# choosing the needed columns that\"s been cleaned\n",
    "cols = [\"id\",\"timestamp\",\"savings_account_id\",\"balance\",\"interest_rate_percent\",\"status\"]\n",
    "df_saving_accounts = df_saving_accounts[cols]\n",
    "\n",
    "# grouping all the datas by using \"id\" as reference and feeling the empty data with the the ones above it (updating from the previous data)\n",
    "df_saving_accounts = df_saving_accounts.groupby(\"id\").ffill()\n",
    "\n",
    "print(\"\\nSAVING ACCOUNTS:\")\n",
    "print(df_saving_accounts.to_string())"
   ]
  },
  {
   "cell_type": "code",
   "execution_count": 331,
   "id": "d39732ac",
   "metadata": {},
   "outputs": [
    {
     "name": "stdout",
     "output_type": "stream",
     "text": [
      "\n",
      " ================================================No.2================================================\n"
     ]
    }
   ],
   "source": [
    "no2 = \"No.2\"\n",
    "no2 = no2.center(100,\"=\")\n",
    "print(f\"\\n\",no2)"
   ]
  },
  {
   "cell_type": "code",
   "execution_count": 332,
   "id": "938d7d44",
   "metadata": {},
   "outputs": [
    {
     "name": "stdout",
     "output_type": "stream",
     "text": [
      "\n",
      "Merged Table Account and Cards: \n",
      "         timestamp account_id     name   address phone_number                    email savings_account_id card_id card_number  credit_used  monthly_limit   status\n",
      "9   1577863800000         a1  Anthony  New York     12345678     anthony@somebank.com                NaN     NaN         NaN          NaN            NaN      NaN\n",
      "10  1577865600000         a1  Anthony  New York     87654321     anthony@somebank.com                NaN     NaN         NaN          NaN            NaN      NaN\n",
      "11  1577890800000         a1  Anthony  New York     87654321     anthony@somebank.com                sa1     NaN         NaN          NaN            NaN      NaN\n",
      "12  1577894400000         a1  Anthony   Jakarta     87654321  anthony@anotherbank.com                sa1     NaN         NaN          NaN            NaN      NaN\n",
      "0   1577926800000         a1  Anthony   Jakarta     87654321  anthony@anotherbank.com                sa1      c1    11112222          0.0        30000.0  PENDING\n",
      "1   1578159000000         a1  Anthony   Jakarta     87654321  anthony@anotherbank.com                sa1      c1    11112222          0.0        30000.0   ACTIVE\n",
      "2   1578313800000         a1  Anthony   Jakarta     87654321  anthony@anotherbank.com                sa1      c1    11112222      12000.0        30000.0   ACTIVE\n",
      "3   1578420000000         a1  Anthony   Jakarta     87654321  anthony@anotherbank.com                sa1      c1    11112222      19000.0        30000.0   ACTIVE\n",
      "4   1578654000000         a1  Anthony   Jakarta     87654321  anthony@anotherbank.com                sa1      c1    11112222          0.0        30000.0   ACTIVE\n",
      "5   1579078800000         a1  Anthony   Jakarta     87654321  anthony@anotherbank.com                sa1      c1    11112222          0.0        30000.0   CLOSED\n",
      "13  1579078860000         a1  Anthony   Jakarta     87654321  anthony@anotherbank.com                sa1            11112222          0.0        30000.0   CLOSED\n",
      "6   1579163400000         a1  Anthony   Jakarta     87654321  anthony@anotherbank.com                sa1      c2    12123434          0.0        70000.0  PENDING\n",
      "7   1579298400000         a1  Anthony   Jakarta     87654321  anthony@anotherbank.com                sa1      c2    12123434          0.0        70000.0   ACTIVE\n",
      "8   1579361400000         a1  Anthony   Jakarta     87654321  anthony@anotherbank.com                sa1      c2    12123434      37000.0        70000.0   ACTIVE\n"
     ]
    }
   ],
   "source": [
    "# creating a dataframe (account_card_join_df) to store a join between df_accounts and df_cards with card_id as reference\n",
    "# using outer join since it will merged the same data by following the reference and filling nan if it's not.\n",
    "account_card_join_df = pd.merge(df_cards,df_accounts,on=[\"card_id\",\"timestamp\"],how=\"outer\")\n",
    "\n",
    "cols = [\"timestamp\",\"account_id\",\"name\",\"address\",\"phone_number\",\"email\",\"savings_account_id\",\"card_id\",\"card_number\",\"credit_used\",\"monthly_limit\",\"status\"]\n",
    "\n",
    "# sort the table by timestamp\n",
    "account_card_join_df = account_card_join_df[cols].sort_values(\"timestamp\")\n",
    "\n",
    "# filling nan value with the data above\n",
    "account_card_join_df = account_card_join_df.fillna(method=\"ffill\")\n",
    "print(f\"\\nMerged Table Account and Cards: \\n\",account_card_join_df.to_string())"
   ]
  },
  {
   "cell_type": "code",
   "execution_count": 333,
   "id": "36e7710a",
   "metadata": {},
   "outputs": [
    {
     "name": "stdout",
     "output_type": "stream",
     "text": [
      "\n",
      "Final Table: \n",
      "\n",
      "         timestamp account_id     name   address phone_number                    email savings_account_id card_id card_number  monthly_limit   status  credit_used  balance  interest_rate_percent\n",
      "8   1577863800000         a1  Anthony  New York     12345678     anthony@somebank.com                NaN     NaN         NaN            NaN      NaN          NaN      NaN                    NaN\n",
      "9   1577865600000         a1  Anthony  New York     87654321     anthony@somebank.com                NaN     NaN         NaN            NaN      NaN          NaN      NaN                    NaN\n",
      "0   1577890800000         a1  Anthony  New York     87654321     anthony@somebank.com                sa1     NaN         NaN            NaN   ACTIVE          NaN      0.0                    1.5\n",
      "10  1577890800000         a1  Anthony  New York     87654321     anthony@somebank.com                sa1     NaN         NaN            NaN   ACTIVE          NaN      0.0                    1.5\n",
      "11  1577894400000         a1  Anthony   Jakarta     87654321  anthony@anotherbank.com                sa1     NaN         NaN            NaN   ACTIVE          NaN      0.0                    1.5\n",
      "12  1577926800000         a1  Anthony   Jakarta     87654321  anthony@anotherbank.com                sa1      c1    11112222        30000.0  PENDING          0.0      0.0                    1.5\n",
      "1   1577955600000         a1  Anthony   Jakarta     87654321  anthony@anotherbank.com                sa1      c1    11112222        30000.0   ACTIVE          0.0  15000.0                    1.5\n",
      "13  1578159000000         a1  Anthony   Jakarta     87654321  anthony@anotherbank.com                sa1      c1    11112222        30000.0   ACTIVE          0.0  15000.0                    1.5\n",
      "2   1578159060000         a1  Anthony   Jakarta     87654321  anthony@anotherbank.com                sa1      c1    11112222        30000.0   ACTIVE          0.0  15000.0                    3.0\n",
      "14  1578313800000         a1  Anthony   Jakarta     87654321  anthony@anotherbank.com                sa1      c1    11112222        30000.0   ACTIVE      12000.0  15000.0                    3.0\n",
      "15  1578420000000         a1  Anthony   Jakarta     87654321  anthony@anotherbank.com                sa1      c1    11112222        30000.0   ACTIVE      19000.0  15000.0                    3.0\n",
      "3   1578648600000         a1  Anthony   Jakarta     87654321  anthony@anotherbank.com                sa1      c1    11112222        30000.0   ACTIVE      19000.0  40000.0                    3.0\n",
      "4   1578654000000         a1  Anthony   Jakarta     87654321  anthony@anotherbank.com                sa1      c1    11112222        30000.0   ACTIVE          0.0  21000.0                    3.0\n",
      "16  1579078800000         a1  Anthony   Jakarta     87654321  anthony@anotherbank.com                sa1      c1    11112222        30000.0   CLOSED          0.0  21000.0                    3.0\n",
      "5   1579078860000         a1  Anthony   Jakarta     87654321  anthony@anotherbank.com                sa1      c1    11112222        30000.0   ACTIVE          0.0  21000.0                    1.5\n",
      "17  1579078860000         a1  Anthony   Jakarta     87654321  anthony@anotherbank.com                sa1            11112222        30000.0   CLOSED          0.0  21000.0                    1.5\n",
      "18  1579163400000         a1  Anthony   Jakarta     87654321  anthony@anotherbank.com                sa1      c2    12123434        70000.0  PENDING          0.0  21000.0                    1.5\n",
      "19  1579298400000         a1  Anthony   Jakarta     87654321  anthony@anotherbank.com                sa1      c2    12123434        70000.0   ACTIVE          0.0  21000.0                    1.5\n",
      "6   1579298460000         a1  Anthony   Jakarta     87654321  anthony@anotherbank.com                sa1      c2    12123434        70000.0   ACTIVE          0.0  21000.0                    4.0\n",
      "20  1579361400000         a1  Anthony   Jakarta     87654321  anthony@anotherbank.com                sa1      c2    12123434        70000.0   ACTIVE      37000.0  21000.0                    4.0\n",
      "7   1579505400000         a1  Anthony   Jakarta     87654321  anthony@anotherbank.com                sa1      c2    12123434        70000.0   ACTIVE      37000.0  33000.0                    4.0\n"
     ]
    }
   ],
   "source": [
    "final_merged_df = pd.merge(df_saving_accounts,account_card_join_df,on=[\"savings_account_id\",\"timestamp\",\"status\"],how=\"outer\")\n",
    "cols = [\"timestamp\",\"account_id\",\"name\",\"address\",\"phone_number\",\"email\",\"savings_account_id\",\"card_id\",\"card_number\",\"monthly_limit\",\"status\",\"credit_used\",\"balance\",\"interest_rate_percent\"]\n",
    "final_merged_df = final_merged_df.sort_values([\"timestamp\"])\n",
    "final_merged_df = final_merged_df.fillna(method=\"ffill\")\n",
    "\n",
    "print(f\"\\nFinal Table: \\n\\n\",final_merged_df[cols].to_string())"
   ]
  },
  {
   "cell_type": "code",
   "execution_count": 334,
   "id": "cba4aeea",
   "metadata": {},
   "outputs": [
    {
     "name": "stdout",
     "output_type": "stream",
     "text": [
      "\n",
      " ================================================No.3================================================\n"
     ]
    }
   ],
   "source": [
    "no3 = \"No.3\"\n",
    "no3 = no3.center(100,\"=\")\n",
    "print(f\"\\n\",no3)"
   ]
  },
  {
   "cell_type": "code",
   "execution_count": 335,
   "id": "eef7da89",
   "metadata": {},
   "outputs": [
    {
     "name": "stdout",
     "output_type": "stream",
     "text": [
      "\n",
      "Historical Table of Anthoy with card_id c1: \n",
      "\n",
      "        timestamp account_id     name  address phone_number                    email savings_account_id card_id card_number  monthly_limit   status  credit_used  balance\n",
      "12  1.577927e+12         a1  Anthony  Jakarta     87654321  anthony@anotherbank.com                sa1      c1    11112222        30000.0  PENDING          0.0      0.0\n",
      "1   1.577956e+12         a1  Anthony  Jakarta     87654321  anthony@anotherbank.com                sa1      c1    11112222        30000.0   ACTIVE          0.0  15000.0\n",
      "13  1.578159e+12         a1  Anthony  Jakarta     87654321  anthony@anotherbank.com                sa1      c1    11112222        30000.0   ACTIVE          0.0  15000.0\n",
      "2   1.578159e+12         a1  Anthony  Jakarta     87654321  anthony@anotherbank.com                sa1      c1    11112222        30000.0   ACTIVE          0.0  15000.0\n",
      "14  1.578314e+12         a1  Anthony  Jakarta     87654321  anthony@anotherbank.com                sa1      c1    11112222        30000.0   ACTIVE      12000.0  15000.0\n",
      "15  1.578420e+12         a1  Anthony  Jakarta     87654321  anthony@anotherbank.com                sa1      c1    11112222        30000.0   ACTIVE      19000.0  15000.0\n",
      "3   1.578649e+12         a1  Anthony  Jakarta     87654321  anthony@anotherbank.com                sa1      c1    11112222        30000.0   ACTIVE      19000.0  40000.0\n",
      "4   1.578654e+12         a1  Anthony  Jakarta     87654321  anthony@anotherbank.com                sa1      c1    11112222        30000.0   ACTIVE          0.0  21000.0\n",
      "16  1.579079e+12         a1  Anthony  Jakarta     87654321  anthony@anotherbank.com                sa1      c1    11112222        30000.0   CLOSED          0.0  21000.0\n",
      "5   1.579079e+12         a1  Anthony  Jakarta     87654321  anthony@anotherbank.com                sa1      c1    11112222        30000.0   ACTIVE          0.0  21000.0\n",
      "Total transaction for card c1:  5\n"
     ]
    }
   ],
   "source": [
    "# dropping alla the rows that contains nan whicch are not needed to count the total transactions\n",
    "final_merged_df = final_merged_df.dropna()\n",
    "\n",
    "# filtering to only show the data that is from card_id c1\n",
    "c1_df = final_merged_df.where(final_merged_df[\"card_id\"] == \"c1\").dropna()\n",
    "\n",
    "# defining if the data is a transaction by checking if the balance's been changed and credit's been used\n",
    "c1_df[\"balance_changed\"] = c1_df.groupby(\"card_id\")[\"balance\"].transform(lambda x: x.shift() !=x)\n",
    "c1_df[\"credit_changed\"] = c1_df.groupby(\"card_id\")[\"credit_used\"].transform(lambda x: x.shift() !=x)\n",
    "c1_df[\"is_transaction\"] = c1_df[\"balance_changed\"] | c1_df[\"credit_changed\"]\n",
    "\n",
    "# count the total of transactions and store it in total_transaction_c1\n",
    "total_transaction_c1 = c1_df[\"is_transaction\"].sum() -1\n",
    "\n",
    "cols = [\"timestamp\",\"account_id\",\"name\",\"address\",\"phone_number\",\"email\",\"savings_account_id\",\"card_id\",\"card_number\",\"monthly_limit\",\"status\",\"credit_used\",\"balance\"]\n",
    "\n",
    "print(f\"\\nHistorical Table of Anthoy with card_id c1: \\n\\n\",c1_df[cols].to_string())\n",
    "print(f\"Total transaction for card c1: \",total_transaction_c1)\n",
    "\n"
   ]
  },
  {
   "cell_type": "code",
   "execution_count": 336,
   "id": "896f2b59",
   "metadata": {},
   "outputs": [
    {
     "name": "stdout",
     "output_type": "stream",
     "text": [
      "\n",
      "Historical Table of Anthoy with card_id c2: \n",
      "\n",
      "        timestamp account_id     name  address phone_number                    email savings_account_id card_id card_number  monthly_limit   status  credit_used  balance\n",
      "18  1.579163e+12         a1  Anthony  Jakarta     87654321  anthony@anotherbank.com                sa1      c2    12123434        70000.0  PENDING          0.0  21000.0\n",
      "19  1.579298e+12         a1  Anthony  Jakarta     87654321  anthony@anotherbank.com                sa1      c2    12123434        70000.0   ACTIVE          0.0  21000.0\n",
      "6   1.579298e+12         a1  Anthony  Jakarta     87654321  anthony@anotherbank.com                sa1      c2    12123434        70000.0   ACTIVE          0.0  21000.0\n",
      "20  1.579361e+12         a1  Anthony  Jakarta     87654321  anthony@anotherbank.com                sa1      c2    12123434        70000.0   ACTIVE      37000.0  21000.0\n",
      "7   1.579505e+12         a1  Anthony  Jakarta     87654321  anthony@anotherbank.com                sa1      c2    12123434        70000.0   ACTIVE      37000.0  33000.0\n",
      "Total transaction for card c2:  2\n"
     ]
    }
   ],
   "source": [
    "c2_df = final_merged_df.where(final_merged_df[\"card_id\"] == \"c2\").dropna()\n",
    "\n",
    "c2_df[\"balance_changed\"] = c2_df.groupby(\"card_id\")[\"balance\"].transform(lambda x: x.shift() !=x)\n",
    "c2_df[\"credit_changed\"] = c2_df.groupby(\"card_id\")[\"credit_used\"].transform(lambda x: x.shift() !=x)\n",
    "c2_df[\"is_transaction\"] = c2_df[\"balance_changed\"] | c2_df[\"credit_changed\"]\n",
    "\n",
    "total_transaction_c2 = c2_df[\"is_transaction\"].sum() -1\n",
    "\n",
    "print(f\"\\nHistorical Table of Anthoy with card_id c2: \\n\\n\",c2_df[cols].to_string())\n",
    "print(f\"Total transaction for card c2: \",total_transaction_c2)"
   ]
  }
 ],
 "metadata": {
  "kernelspec": {
   "display_name": "Python 3",
   "language": "python",
   "name": "python3"
  },
  "language_info": {
   "codemirror_mode": {
    "name": "ipython",
    "version": 3
   },
   "file_extension": ".py",
   "mimetype": "text/x-python",
   "name": "python",
   "nbconvert_exporter": "python",
   "pygments_lexer": "ipython3",
   "version": "3.7.6"
  }
 },
 "nbformat": 4,
 "nbformat_minor": 5
}
