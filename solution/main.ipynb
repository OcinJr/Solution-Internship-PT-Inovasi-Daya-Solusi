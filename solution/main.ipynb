{
 "cells": [
  {
   "cell_type": "code",
   "execution_count": 414,
   "id": "0cbec8fd",
   "metadata": {},
   "outputs": [],
   "source": [
    "import pandas as pd\n",
    "import os\n",
    "import json"
   ]
  },
  {
   "cell_type": "code",
   "execution_count": 415,
   "id": "b0e51493",
   "metadata": {},
   "outputs": [
    {
     "name": "stdout",
     "output_type": "stream",
     "text": [
      "\n",
      " ================================================No.1================================================\n"
     ]
    }
   ],
   "source": [
    "no1 = \"No.1\"\n",
    "no1 = no1.center(100,\"=\")\n",
    "print(f\"\\n\",no1)"
   ]
  },
  {
   "cell_type": "code",
   "execution_count": 416,
   "id": "1155e7b6",
   "metadata": {},
   "outputs": [],
   "source": [
    "# create a function to load all the JSON files inside a folder and normalize them then append the files into a data_list\n",
    "def load_and_normalize(folder_path):\n",
    "    data_list = []\n",
    "\n",
    "    # loop into the folder, scanning all the files inside the folder\n",
    "    for filename in os.listdir(folder_path):\n",
    "        file_path = os.path.join(folder_path, filename)\n",
    "        with open(file_path,'r') as f:\n",
    "            data = json.load(f)\n",
    "            data_list.append(data)\n",
    "            \n",
    "    # normalize the datas inside data_list and update the data_list directly\n",
    "    data_list = pd.json_normalize(data_list)\n",
    "    \n",
    "    # sort the datas inside data_list ny id and ts(timestamp)\n",
    "    data_list = data_list.sort_values(by=['id','ts'])\n",
    "    \n",
    "    return data_list"
   ]
  },
  {
   "cell_type": "code",
   "execution_count": 417,
   "id": "18c1c39c",
   "metadata": {},
   "outputs": [],
   "source": [
    "data_folder = os.environ.get(\"DATA_FOLDER\", \"./data\")\n",
    "accounts_path = os.path.join(data_folder,'accounts')\n",
    "cards_path = os.path.join(data_folder,'cards')\n",
    "savings_accounts_path = os.path.join(data_folder,'savings_accounts')"
   ]
  },
  {
   "cell_type": "code",
   "execution_count": 418,
   "id": "ae911e0a",
   "metadata": {},
   "outputs": [
    {
     "name": "stdout",
     "output_type": "stream",
     "text": [
      "\n",
      "ACCOUNTS:\n",
      "       timestamp account_id     name   address phone_number                    email savings_account_id card_id\n",
      "0  1577863800000         a1  Anthony  New York     12345678     anthony@somebank.com                NaN     NaN\n",
      "1  1577865600000         a1  Anthony  New York     87654321     anthony@somebank.com                NaN     NaN\n",
      "2  1577890800000         a1  Anthony  New York     87654321     anthony@somebank.com                sa1     NaN\n",
      "3  1577894400000         a1  Anthony   Jakarta     87654321  anthony@anotherbank.com                sa1     NaN\n",
      "4  1577926800000         a1  Anthony   Jakarta     87654321  anthony@anotherbank.com                sa1      c1\n",
      "5  1579078860000         a1  Anthony   Jakarta     87654321  anthony@anotherbank.com                sa1        \n",
      "6  1579163400000         a1  Anthony   Jakarta     87654321  anthony@anotherbank.com                sa1      c2\n"
     ]
    }
   ],
   "source": [
    "# Feeling dataframe \"df_accounts\" with all the JSON data files located in \"./data/accounts\" using load_and_normalize function\n",
    "df_accounts = load_and_normalize(\"./data/accounts\")\n",
    "\n",
    "# renaming and combining the features/columns\n",
    "df_accounts[\"timestamp\"] = df_accounts[\"ts\"]\n",
    "df_accounts[\"account_id\"] = df_accounts[\"data.account_id\"]\n",
    "df_accounts[\"name\"] = df_accounts[\"data.name\"]\n",
    "df_accounts[\"email\"] = df_accounts[\"set.email\"].combine_first(df_accounts[\"data.email\"])\n",
    "df_accounts[\"savings_account_id\"] = df_accounts[\"set.savings_account_id\"]\n",
    "df_accounts[\"card_id\"] = df_accounts[\"set.card_id\"]\n",
    "\n",
    "# combine only if there is a \"set\" column where it represents an update on the data with the same \"name\"\n",
    "# combining column \"set.address\" with \"data.address\" into a new column named \"address\"\n",
    "df_accounts[\"address\"] = df_accounts[\"set.address\"].combine_first(df_accounts[\"data.address\"])\n",
    "\n",
    "# combining column \"set.phone_number\" with \"data.phone_number\" into a new column named \"phone_number\"\n",
    "df_accounts[\"phone_number\"] = df_accounts[\"set.phone_number\"].combine_first(df_accounts[\"data.phone_number\"])\n",
    "\n",
    "# choosing the needed columns that's been cleaned\n",
    "cols = [\"id\",\"timestamp\",\"account_id\",\"name\",\"address\",\"phone_number\",\"email\",\"savings_account_id\",\"card_id\"]\n",
    "df_accounts = df_accounts[cols]\n",
    "\n",
    "# grouping all the datas by using \"id\" as reference and feeling the empty data with the the ones above it (updating from the previous data\n",
    "df_accounts = df_accounts.groupby(\"id\").ffill()\n",
    "\n",
    "print(\"\\nACCOUNTS:\")\n",
    "print(df_accounts.to_string())"
   ]
  },
  {
   "cell_type": "code",
   "execution_count": 419,
   "id": "1f3f1f1f",
   "metadata": {},
   "outputs": [
    {
     "name": "stdout",
     "output_type": "stream",
     "text": [
      "\n",
      "CARDS:\n",
      "       timestamp card_id card_number  credit_used  monthly_limit   status\n",
      "0  1577926800000      c1    11112222          0.0        30000.0  PENDING\n",
      "1  1578159000000      c1    11112222          0.0        30000.0   ACTIVE\n",
      "2  1578313800000      c1    11112222      12000.0        30000.0   ACTIVE\n",
      "3  1578420000000      c1    11112222      19000.0        30000.0   ACTIVE\n",
      "4  1578654000000      c1    11112222          0.0        30000.0   ACTIVE\n",
      "5  1579078800000      c1    11112222          0.0        30000.0   CLOSED\n",
      "6  1579163400000      c2    12123434          0.0        70000.0  PENDING\n",
      "7  1579298400000      c2    12123434          0.0        70000.0   ACTIVE\n",
      "8  1579361400000      c2    12123434      37000.0        70000.0   ACTIVE\n"
     ]
    }
   ],
   "source": [
    "# Feeling dataframe \"df_accounts\" with all the JSON data files located in \"./data/cards\" using load_and_normalize function\n",
    "df_cards = load_and_normalize(\"./data/cards\")\n",
    "\n",
    "# renaming and combining the features/columns\n",
    "df_cards[\"timestamp\"] = df_cards[\"ts\"]\n",
    "df_cards[\"card_id\"] = df_cards[\"data.card_id\"]\n",
    "df_cards[\"card_number\"] = df_cards[\"data.card_number\"]\n",
    "df_cards[\"monthly_limit\"] = df_cards[\"data.monthly_limit\"]\n",
    "\n",
    "# combine only if there is a \"set\" column where it represents an update on the data with the same \"name\"\n",
    "# combining column \"set.credit_used\" with \"data.credit_used\" into a new column named \"credit_used\"\n",
    "df_cards[\"credit_used\"] = df_cards[\"set.credit_used\"].combine_first(df_cards[\"data.credit_used\"])\n",
    "\n",
    "# combining column \"set.status\" with \"data.status\" into a new column named \"status\"\n",
    "df_cards[\"status\"] = df_cards[\"set.status\"].combine_first(df_cards[\"data.status\"])\n",
    "\n",
    "# choosing the needed columns that's been cleaned\n",
    "cols = [\"id\",\"timestamp\",\"card_id\",\"card_number\",\"credit_used\",\"monthly_limit\",\"status\"]\n",
    "df_cards = df_cards[cols]\n",
    "\n",
    "# grouping all the datas by using \"id\" as reference and feeling the empty data with the the ones above it (updating from the previous data\n",
    "df_cards = df_cards.groupby(\"id\").ffill()\n",
    "\n",
    "print(\"\\nCARDS:\")\n",
    "print(df_cards.to_string())"
   ]
  },
  {
   "cell_type": "code",
   "execution_count": 420,
   "id": "a46ff369",
   "metadata": {},
   "outputs": [
    {
     "name": "stdout",
     "output_type": "stream",
     "text": [
      "\n",
      "SAVING ACCOUNTS:\n",
      "       timestamp savings_account_id  balance  interest_rate_percent  status\n",
      "0  1577890800000                sa1      0.0                    1.5  ACTIVE\n",
      "1  1577955600000                sa1  15000.0                    1.5  ACTIVE\n",
      "2  1578159060000                sa1  15000.0                    3.0  ACTIVE\n",
      "3  1578648600000                sa1  40000.0                    3.0  ACTIVE\n",
      "4  1578654000000                sa1  21000.0                    3.0  ACTIVE\n",
      "5  1579078860000                sa1  21000.0                    1.5  ACTIVE\n",
      "6  1579298460000                sa1  21000.0                    4.0  ACTIVE\n",
      "7  1579505400000                sa1  33000.0                    4.0  ACTIVE\n"
     ]
    }
   ],
   "source": [
    "# Feeling dataframe \"df_accounts\" with all the JSON data files located in \"./data/cards\" using load_and_normalize function\n",
    "df_saving_accounts = load_and_normalize(\"./data/savings_accounts\")\n",
    "\n",
    "# renaming and combining the features/columns\n",
    "df_saving_accounts[\"timestamp\"] = df_saving_accounts[\"ts\"]\n",
    "df_saving_accounts[\"savings_account_id\"] = df_saving_accounts[\"data.savings_account_id\"]\n",
    "df_saving_accounts[\"status\"] = df_saving_accounts[\"data.status\"]\n",
    "\n",
    "# combine only if there is a \"set\" column where it represents an update on the data with the same \"name\"\n",
    "# combining column \"set.balance\" with \"data.balance\" into a new column named \"balance\"\n",
    "df_saving_accounts[\"balance\"] = df_saving_accounts[\"set.balance\"].combine_first(df_saving_accounts[\"data.balance\"])\n",
    "\n",
    "# combining column \"set.interest_rate_percent\" with \"data.interest_rate_percent\" into a new column named \"interest_rate_percent\"\n",
    "df_saving_accounts[\"interest_rate_percent\"] = df_saving_accounts[\"set.interest_rate_percent\"].combine_first(df_saving_accounts[\"data.interest_rate_percent\"])\n",
    "\n",
    "# choosing the needed columns that's been cleaned\n",
    "cols = [\"id\",\"timestamp\",\"savings_account_id\",\"balance\",\"interest_rate_percent\",\"status\"]\n",
    "df_saving_accounts = df_saving_accounts[cols]\n",
    "\n",
    "# grouping all the datas by using \"id\" as reference and feeling the empty data with the the ones above it (updating from the previous data)\n",
    "df_saving_accounts = df_saving_accounts.groupby(\"id\").ffill()\n",
    "\n",
    "print(\"\\nSAVING ACCOUNTS:\")\n",
    "print(df_saving_accounts.to_string())"
   ]
  },
  {
   "cell_type": "code",
   "execution_count": 421,
   "id": "d39732ac",
   "metadata": {},
   "outputs": [
    {
     "name": "stdout",
     "output_type": "stream",
     "text": [
      "\n",
      " ================================================No.2================================================\n"
     ]
    }
   ],
   "source": [
    "no2 = \"No.2\"\n",
    "no2 = no2.center(100,\"=\")\n",
    "print(f\"\\n\",no2)"
   ]
  },
  {
   "cell_type": "code",
   "execution_count": 422,
   "id": "938d7d44",
   "metadata": {},
   "outputs": [
    {
     "name": "stdout",
     "output_type": "stream",
     "text": [
      "\n",
      "Merged Table Account and Cards: \n",
      "        timestamp account_id     name   address phone_number                    email savings_account_id card_id card_number  credit_used  monthly_limit   status\n",
      "0   1.577864e+12         a1  Anthony  New York     12345678     anthony@somebank.com                NaN     NaN         NaN          NaN            NaN      NaN\n",
      "1   1.577866e+12         a1  Anthony  New York     87654321     anthony@somebank.com                NaN     NaN         NaN          NaN            NaN      NaN\n",
      "2   1.577891e+12         a1  Anthony  New York     87654321     anthony@somebank.com                sa1     NaN         NaN          NaN            NaN      NaN\n",
      "3   1.577894e+12         a1  Anthony   Jakarta     87654321  anthony@anotherbank.com                sa1     NaN         NaN          NaN            NaN      NaN\n",
      "4   1.577927e+12         a1  Anthony   Jakarta     87654321  anthony@anotherbank.com                sa1      c1    11112222          0.0        30000.0  PENDING\n",
      "5   1.578159e+12         a1  Anthony   Jakarta     87654321  anthony@anotherbank.com                sa1      c1    11112222          0.0        30000.0   ACTIVE\n",
      "6   1.578314e+12         a1  Anthony   Jakarta     87654321  anthony@anotherbank.com                sa1      c1    11112222      12000.0        30000.0   ACTIVE\n",
      "7   1.578420e+12         a1  Anthony   Jakarta     87654321  anthony@anotherbank.com                sa1      c1    11112222      19000.0        30000.0   ACTIVE\n",
      "8   1.578654e+12         a1  Anthony   Jakarta     87654321  anthony@anotherbank.com                sa1      c1    11112222          0.0        30000.0   ACTIVE\n",
      "9   1.579079e+12         a1  Anthony   Jakarta     87654321  anthony@anotherbank.com                sa1      c1    11112222          0.0        30000.0   CLOSED\n",
      "10  1.579079e+12         a1  Anthony   Jakarta     87654321  anthony@anotherbank.com                sa1                 NaN          NaN            NaN      NaN\n",
      "11  1.579163e+12         a1  Anthony   Jakarta     87654321  anthony@anotherbank.com                sa1      c2    12123434          0.0        70000.0  PENDING\n",
      "12  1.579298e+12         a1  Anthony   Jakarta     87654321  anthony@anotherbank.com                sa1      c2    12123434          0.0        70000.0   ACTIVE\n",
      "13  1.579361e+12         a1  Anthony   Jakarta     87654321  anthony@anotherbank.com                sa1      c2    12123434      37000.0        70000.0   ACTIVE\n"
     ]
    }
   ],
   "source": [
    "account_card_join_df = pd.merge(df_accounts,df_cards,on=\"card_id\",how=\"outer\")\n",
    "account_card_join_df[\"timestamp\"] = account_card_join_df[\"timestamp_y\"].combine_first(account_card_join_df[\"timestamp_x\"])\n",
    "cols = [\"timestamp\",\"account_id\",\"name\",\"address\",\"phone_number\",\"email\",\"savings_account_id\",\"card_id\",\"card_number\",\"credit_used\",\"monthly_limit\",\"status\"]\n",
    "account_card_join_df = account_card_join_df[cols].sort_values([\"timestamp\",\"card_id\"])\n",
    "print(f\"\\nMerged Table Account and Cards: \\n\",account_card_join_df.to_string())"
   ]
  },
  {
   "cell_type": "code",
   "execution_count": 429,
   "id": "36e7710a",
   "metadata": {},
   "outputs": [
    {
     "name": "stdout",
     "output_type": "stream",
     "text": [
      "\n",
      "Final Table: \n",
      "\n",
      "        timestamp account_id     name   address phone_number                    email savings_account_id card_id card_number  monthly_limit   status  credit_used  balance  interest_rate_percent\n",
      "0   1.577864e+12         a1  Anthony  New York     12345678     anthony@somebank.com                NaN     NaN         NaN            NaN      NaN          NaN      NaN                    NaN\n",
      "1   1.577866e+12         a1  Anthony  New York     87654321     anthony@somebank.com                NaN     NaN         NaN            NaN      NaN          NaN      NaN                    NaN\n",
      "23  1.577891e+12         a1  Anthony   Jakarta     87654321  anthony@anotherbank.com                sa1      c1    11112222        30000.0   ACTIVE      19000.0      0.0                    1.5\n",
      "39  1.577891e+12         a1  Anthony   Jakarta     87654321  anthony@anotherbank.com                sa1      c2    12123434        70000.0   ACTIVE          0.0      0.0                    1.5\n",
      "47  1.577891e+12         a1  Anthony   Jakarta     87654321  anthony@anotherbank.com                sa1      c2    12123434        70000.0   ACTIVE      37000.0      0.0                    1.5\n",
      "7   1.577891e+12         a1  Anthony   Jakarta     87654321  anthony@anotherbank.com                sa1      c1    11112222        30000.0   ACTIVE          0.0      0.0                    1.5\n",
      "15  1.577891e+12         a1  Anthony   Jakarta     87654321  anthony@anotherbank.com                sa1      c1    11112222        30000.0   ACTIVE      12000.0      0.0                    1.5\n",
      "31  1.577891e+12         a1  Anthony   Jakarta     87654321  anthony@anotherbank.com                sa1      c1    11112222        30000.0   ACTIVE          0.0      0.0                    1.5\n",
      "2   1.577891e+12         a1  Anthony  New York     87654321     anthony@somebank.com                sa1     NaN         NaN            NaN      NaN          NaN      NaN                    NaN\n",
      "3   1.577894e+12         a1  Anthony   Jakarta     87654321  anthony@anotherbank.com                sa1     NaN         NaN            NaN      NaN          NaN      NaN                    NaN\n",
      "5   1.577927e+12         a1  Anthony   Jakarta     87654321  anthony@anotherbank.com                sa1      c1    11112222        30000.0  PENDING          0.0      NaN                    NaN\n",
      "40  1.577956e+12         a1  Anthony   Jakarta     87654321  anthony@anotherbank.com                sa1      c2    12123434        70000.0   ACTIVE          0.0  15000.0                    1.5\n",
      "48  1.577956e+12         a1  Anthony   Jakarta     87654321  anthony@anotherbank.com                sa1      c2    12123434        70000.0   ACTIVE      37000.0  15000.0                    1.5\n",
      "32  1.577956e+12         a1  Anthony   Jakarta     87654321  anthony@anotherbank.com                sa1      c1    11112222        30000.0   ACTIVE          0.0  15000.0                    1.5\n",
      "16  1.577956e+12         a1  Anthony   Jakarta     87654321  anthony@anotherbank.com                sa1      c1    11112222        30000.0   ACTIVE      12000.0  15000.0                    1.5\n",
      "24  1.577956e+12         a1  Anthony   Jakarta     87654321  anthony@anotherbank.com                sa1      c1    11112222        30000.0   ACTIVE      19000.0  15000.0                    1.5\n",
      "8   1.577956e+12         a1  Anthony   Jakarta     87654321  anthony@anotherbank.com                sa1      c1    11112222        30000.0   ACTIVE          0.0  15000.0                    1.5\n",
      "33  1.578159e+12         a1  Anthony   Jakarta     87654321  anthony@anotherbank.com                sa1      c1    11112222        30000.0   ACTIVE          0.0  15000.0                    3.0\n",
      "25  1.578159e+12         a1  Anthony   Jakarta     87654321  anthony@anotherbank.com                sa1      c1    11112222        30000.0   ACTIVE      19000.0  15000.0                    3.0\n",
      "9   1.578159e+12         a1  Anthony   Jakarta     87654321  anthony@anotherbank.com                sa1      c1    11112222        30000.0   ACTIVE          0.0  15000.0                    3.0\n",
      "49  1.578159e+12         a1  Anthony   Jakarta     87654321  anthony@anotherbank.com                sa1      c2    12123434        70000.0   ACTIVE      37000.0  15000.0                    3.0\n",
      "17  1.578159e+12         a1  Anthony   Jakarta     87654321  anthony@anotherbank.com                sa1      c1    11112222        30000.0   ACTIVE      12000.0  15000.0                    3.0\n",
      "41  1.578159e+12         a1  Anthony   Jakarta     87654321  anthony@anotherbank.com                sa1      c2    12123434        70000.0   ACTIVE          0.0  15000.0                    3.0\n",
      "10  1.578649e+12         a1  Anthony   Jakarta     87654321  anthony@anotherbank.com                sa1      c1    11112222        30000.0   ACTIVE          0.0  40000.0                    3.0\n",
      "50  1.578649e+12         a1  Anthony   Jakarta     87654321  anthony@anotherbank.com                sa1      c2    12123434        70000.0   ACTIVE      37000.0  40000.0                    3.0\n",
      "18  1.578649e+12         a1  Anthony   Jakarta     87654321  anthony@anotherbank.com                sa1      c1    11112222        30000.0   ACTIVE      12000.0  40000.0                    3.0\n",
      "26  1.578649e+12         a1  Anthony   Jakarta     87654321  anthony@anotherbank.com                sa1      c1    11112222        30000.0   ACTIVE      19000.0  40000.0                    3.0\n",
      "34  1.578649e+12         a1  Anthony   Jakarta     87654321  anthony@anotherbank.com                sa1      c1    11112222        30000.0   ACTIVE          0.0  40000.0                    3.0\n",
      "42  1.578649e+12         a1  Anthony   Jakarta     87654321  anthony@anotherbank.com                sa1      c2    12123434        70000.0   ACTIVE          0.0  40000.0                    3.0\n",
      "43  1.578654e+12         a1  Anthony   Jakarta     87654321  anthony@anotherbank.com                sa1      c2    12123434        70000.0   ACTIVE          0.0  21000.0                    3.0\n",
      "35  1.578654e+12         a1  Anthony   Jakarta     87654321  anthony@anotherbank.com                sa1      c1    11112222        30000.0   ACTIVE          0.0  21000.0                    3.0\n",
      "51  1.578654e+12         a1  Anthony   Jakarta     87654321  anthony@anotherbank.com                sa1      c2    12123434        70000.0   ACTIVE      37000.0  21000.0                    3.0\n",
      "27  1.578654e+12         a1  Anthony   Jakarta     87654321  anthony@anotherbank.com                sa1      c1    11112222        30000.0   ACTIVE      19000.0  21000.0                    3.0\n",
      "11  1.578654e+12         a1  Anthony   Jakarta     87654321  anthony@anotherbank.com                sa1      c1    11112222        30000.0   ACTIVE          0.0  21000.0                    3.0\n",
      "19  1.578654e+12         a1  Anthony   Jakarta     87654321  anthony@anotherbank.com                sa1      c1    11112222        30000.0   ACTIVE      12000.0  21000.0                    3.0\n",
      "55  1.579079e+12         a1  Anthony   Jakarta     87654321  anthony@anotherbank.com                sa1      c1    11112222        30000.0   CLOSED          0.0      NaN                    NaN\n",
      "52  1.579079e+12         a1  Anthony   Jakarta     87654321  anthony@anotherbank.com                sa1      c2    12123434        70000.0   ACTIVE      37000.0  21000.0                    1.5\n",
      "4   1.579079e+12         a1  Anthony   Jakarta     87654321  anthony@anotherbank.com                sa1                 NaN            NaN      NaN          NaN      NaN                    NaN\n",
      "12  1.579079e+12         a1  Anthony   Jakarta     87654321  anthony@anotherbank.com                sa1      c1    11112222        30000.0   ACTIVE          0.0  21000.0                    1.5\n",
      "20  1.579079e+12         a1  Anthony   Jakarta     87654321  anthony@anotherbank.com                sa1      c1    11112222        30000.0   ACTIVE      12000.0  21000.0                    1.5\n",
      "44  1.579079e+12         a1  Anthony   Jakarta     87654321  anthony@anotherbank.com                sa1      c2    12123434        70000.0   ACTIVE          0.0  21000.0                    1.5\n",
      "36  1.579079e+12         a1  Anthony   Jakarta     87654321  anthony@anotherbank.com                sa1      c1    11112222        30000.0   ACTIVE          0.0  21000.0                    1.5\n",
      "28  1.579079e+12         a1  Anthony   Jakarta     87654321  anthony@anotherbank.com                sa1      c1    11112222        30000.0   ACTIVE      19000.0  21000.0                    1.5\n",
      "6   1.579163e+12         a1  Anthony   Jakarta     87654321  anthony@anotherbank.com                sa1      c2    12123434        70000.0  PENDING          0.0      NaN                    NaN\n",
      "45  1.579298e+12         a1  Anthony   Jakarta     87654321  anthony@anotherbank.com                sa1      c2    12123434        70000.0   ACTIVE          0.0  21000.0                    4.0\n",
      "13  1.579298e+12         a1  Anthony   Jakarta     87654321  anthony@anotherbank.com                sa1      c1    11112222        30000.0   ACTIVE          0.0  21000.0                    4.0\n",
      "37  1.579298e+12         a1  Anthony   Jakarta     87654321  anthony@anotherbank.com                sa1      c1    11112222        30000.0   ACTIVE          0.0  21000.0                    4.0\n",
      "53  1.579298e+12         a1  Anthony   Jakarta     87654321  anthony@anotherbank.com                sa1      c2    12123434        70000.0   ACTIVE      37000.0  21000.0                    4.0\n",
      "21  1.579298e+12         a1  Anthony   Jakarta     87654321  anthony@anotherbank.com                sa1      c1    11112222        30000.0   ACTIVE      12000.0  21000.0                    4.0\n",
      "29  1.579298e+12         a1  Anthony   Jakarta     87654321  anthony@anotherbank.com                sa1      c1    11112222        30000.0   ACTIVE      19000.0  21000.0                    4.0\n",
      "22  1.579505e+12         a1  Anthony   Jakarta     87654321  anthony@anotherbank.com                sa1      c1    11112222        30000.0   ACTIVE      12000.0  33000.0                    4.0\n",
      "38  1.579505e+12         a1  Anthony   Jakarta     87654321  anthony@anotherbank.com                sa1      c1    11112222        30000.0   ACTIVE          0.0  33000.0                    4.0\n",
      "14  1.579505e+12         a1  Anthony   Jakarta     87654321  anthony@anotherbank.com                sa1      c1    11112222        30000.0   ACTIVE          0.0  33000.0                    4.0\n",
      "30  1.579505e+12         a1  Anthony   Jakarta     87654321  anthony@anotherbank.com                sa1      c1    11112222        30000.0   ACTIVE      19000.0  33000.0                    4.0\n",
      "46  1.579505e+12         a1  Anthony   Jakarta     87654321  anthony@anotherbank.com                sa1      c2    12123434        70000.0   ACTIVE          0.0  33000.0                    4.0\n",
      "54  1.579505e+12         a1  Anthony   Jakarta     87654321  anthony@anotherbank.com                sa1      c2    12123434        70000.0   ACTIVE      37000.0  33000.0                    4.0\n"
     ]
    }
   ],
   "source": [
    "final_merged_df = pd.merge(account_card_join_df,df_saving_accounts,on=[\"savings_account_id\",\"status\"],how=\"outer\")\n",
    "final_merged_df[\"timestamp\"] = final_merged_df[\"timestamp_y\"].combine_first(final_merged_df[\"timestamp_x\"])\n",
    "cols = [\"timestamp\",\"account_id\",\"name\",\"address\",\"phone_number\",\"email\",\"savings_account_id\",\"card_id\",\"card_number\",\"monthly_limit\",\"status\",\"credit_used\",\"balance\",\"interest_rate_percent\"]\n",
    "final_merged_df = final_merged_df.sort_values([\"timestamp\"])\n",
    "print(f\"\\nFinal Table: \\n\\n\",final_merged_df[cols].to_string())"
   ]
  },
  {
   "cell_type": "code",
   "execution_count": 424,
   "id": "cba4aeea",
   "metadata": {},
   "outputs": [
    {
     "name": "stdout",
     "output_type": "stream",
     "text": [
      "\n",
      " ================================================No.3================================================\n"
     ]
    }
   ],
   "source": [
    "no3 = \"No.3\"\n",
    "no3 = no3.center(100,\"=\")\n",
    "print(f\"\\n\",no3)"
   ]
  },
  {
   "cell_type": "code",
   "execution_count": 430,
   "id": "eef7da89",
   "metadata": {},
   "outputs": [
    {
     "name": "stdout",
     "output_type": "stream",
     "text": [
      "\n",
      "Historical Table of Anthoy with card_id c1: \n",
      "\n",
      "        timestamp account_id     name  address phone_number                    email savings_account_id card_id card_number  monthly_limit  status  credit_used  balance\n",
      "23  1.577891e+12         a1  Anthony  Jakarta     87654321  anthony@anotherbank.com                sa1      c1    11112222        30000.0  ACTIVE      19000.0      0.0\n",
      "7   1.577891e+12         a1  Anthony  Jakarta     87654321  anthony@anotherbank.com                sa1      c1    11112222        30000.0  ACTIVE          0.0      0.0\n",
      "15  1.577891e+12         a1  Anthony  Jakarta     87654321  anthony@anotherbank.com                sa1      c1    11112222        30000.0  ACTIVE      12000.0      0.0\n",
      "31  1.577891e+12         a1  Anthony  Jakarta     87654321  anthony@anotherbank.com                sa1      c1    11112222        30000.0  ACTIVE          0.0      0.0\n",
      "32  1.577956e+12         a1  Anthony  Jakarta     87654321  anthony@anotherbank.com                sa1      c1    11112222        30000.0  ACTIVE          0.0  15000.0\n",
      "16  1.577956e+12         a1  Anthony  Jakarta     87654321  anthony@anotherbank.com                sa1      c1    11112222        30000.0  ACTIVE      12000.0  15000.0\n",
      "24  1.577956e+12         a1  Anthony  Jakarta     87654321  anthony@anotherbank.com                sa1      c1    11112222        30000.0  ACTIVE      19000.0  15000.0\n",
      "8   1.577956e+12         a1  Anthony  Jakarta     87654321  anthony@anotherbank.com                sa1      c1    11112222        30000.0  ACTIVE          0.0  15000.0\n",
      "33  1.578159e+12         a1  Anthony  Jakarta     87654321  anthony@anotherbank.com                sa1      c1    11112222        30000.0  ACTIVE          0.0  15000.0\n",
      "25  1.578159e+12         a1  Anthony  Jakarta     87654321  anthony@anotherbank.com                sa1      c1    11112222        30000.0  ACTIVE      19000.0  15000.0\n",
      "9   1.578159e+12         a1  Anthony  Jakarta     87654321  anthony@anotherbank.com                sa1      c1    11112222        30000.0  ACTIVE          0.0  15000.0\n",
      "17  1.578159e+12         a1  Anthony  Jakarta     87654321  anthony@anotherbank.com                sa1      c1    11112222        30000.0  ACTIVE      12000.0  15000.0\n",
      "10  1.578649e+12         a1  Anthony  Jakarta     87654321  anthony@anotherbank.com                sa1      c1    11112222        30000.0  ACTIVE          0.0  40000.0\n",
      "18  1.578649e+12         a1  Anthony  Jakarta     87654321  anthony@anotherbank.com                sa1      c1    11112222        30000.0  ACTIVE      12000.0  40000.0\n",
      "26  1.578649e+12         a1  Anthony  Jakarta     87654321  anthony@anotherbank.com                sa1      c1    11112222        30000.0  ACTIVE      19000.0  40000.0\n",
      "34  1.578649e+12         a1  Anthony  Jakarta     87654321  anthony@anotherbank.com                sa1      c1    11112222        30000.0  ACTIVE          0.0  40000.0\n",
      "35  1.578654e+12         a1  Anthony  Jakarta     87654321  anthony@anotherbank.com                sa1      c1    11112222        30000.0  ACTIVE          0.0  21000.0\n",
      "27  1.578654e+12         a1  Anthony  Jakarta     87654321  anthony@anotherbank.com                sa1      c1    11112222        30000.0  ACTIVE      19000.0  21000.0\n",
      "11  1.578654e+12         a1  Anthony  Jakarta     87654321  anthony@anotherbank.com                sa1      c1    11112222        30000.0  ACTIVE          0.0  21000.0\n",
      "19  1.578654e+12         a1  Anthony  Jakarta     87654321  anthony@anotherbank.com                sa1      c1    11112222        30000.0  ACTIVE      12000.0  21000.0\n",
      "12  1.579079e+12         a1  Anthony  Jakarta     87654321  anthony@anotherbank.com                sa1      c1    11112222        30000.0  ACTIVE          0.0  21000.0\n",
      "20  1.579079e+12         a1  Anthony  Jakarta     87654321  anthony@anotherbank.com                sa1      c1    11112222        30000.0  ACTIVE      12000.0  21000.0\n",
      "36  1.579079e+12         a1  Anthony  Jakarta     87654321  anthony@anotherbank.com                sa1      c1    11112222        30000.0  ACTIVE          0.0  21000.0\n",
      "28  1.579079e+12         a1  Anthony  Jakarta     87654321  anthony@anotherbank.com                sa1      c1    11112222        30000.0  ACTIVE      19000.0  21000.0\n",
      "13  1.579298e+12         a1  Anthony  Jakarta     87654321  anthony@anotherbank.com                sa1      c1    11112222        30000.0  ACTIVE          0.0  21000.0\n",
      "37  1.579298e+12         a1  Anthony  Jakarta     87654321  anthony@anotherbank.com                sa1      c1    11112222        30000.0  ACTIVE          0.0  21000.0\n",
      "21  1.579298e+12         a1  Anthony  Jakarta     87654321  anthony@anotherbank.com                sa1      c1    11112222        30000.0  ACTIVE      12000.0  21000.0\n",
      "29  1.579298e+12         a1  Anthony  Jakarta     87654321  anthony@anotherbank.com                sa1      c1    11112222        30000.0  ACTIVE      19000.0  21000.0\n",
      "22  1.579505e+12         a1  Anthony  Jakarta     87654321  anthony@anotherbank.com                sa1      c1    11112222        30000.0  ACTIVE      12000.0  33000.0\n",
      "38  1.579505e+12         a1  Anthony  Jakarta     87654321  anthony@anotherbank.com                sa1      c1    11112222        30000.0  ACTIVE          0.0  33000.0\n",
      "14  1.579505e+12         a1  Anthony  Jakarta     87654321  anthony@anotherbank.com                sa1      c1    11112222        30000.0  ACTIVE          0.0  33000.0\n",
      "30  1.579505e+12         a1  Anthony  Jakarta     87654321  anthony@anotherbank.com                sa1      c1    11112222        30000.0  ACTIVE      19000.0  33000.0\n",
      "Total transaction for card c1:  29\n"
     ]
    }
   ],
   "source": [
    "final_merged_df = final_merged_df[cols].dropna()\n",
    "c1_df = final_merged_df.where(final_merged_df[\"card_id\"] == \"c1\").dropna()\n",
    "c1_df[\"balance_changed\"] = c1_df.groupby(\"card_id\")[\"balance\"].transform(lambda x: x.shift() !=x)\n",
    "c1_df[\"credit_changed\"] = c1_df.groupby(\"card_id\")[\"credit_used\"].transform(lambda x: x.shift() !=x)\n",
    "c1_df[\"is_transaction\"] = c1_df[\"balance_changed\"] | c1_df[\"credit_changed\"]\n",
    "\n",
    "total_transaction_c1 = c1_df[\"is_transaction\"].sum()\n",
    "\n",
    "cols = [\"timestamp\",\"account_id\",\"name\",\"address\",\"phone_number\",\"email\",\"savings_account_id\",\"card_id\",\"card_number\",\"monthly_limit\",\"status\",\"credit_used\",\"balance\"]\n",
    "\n",
    "print(f\"\\nHistorical Table of Anthoy with card_id c1: \\n\\n\",c1_df[cols].to_string())\n",
    "print(f\"Total transaction for card c1: \",total_transaction_c1)"
   ]
  },
  {
   "cell_type": "code",
   "execution_count": 431,
   "id": "896f2b59",
   "metadata": {},
   "outputs": [
    {
     "name": "stdout",
     "output_type": "stream",
     "text": [
      "\n",
      "Historical Table of Anthoy with card_id c2: \n",
      "\n",
      "        timestamp account_id     name  address phone_number                    email savings_account_id card_id card_number  monthly_limit  status  credit_used  balance\n",
      "39  1.577891e+12         a1  Anthony  Jakarta     87654321  anthony@anotherbank.com                sa1      c2    12123434        70000.0  ACTIVE          0.0      0.0\n",
      "47  1.577891e+12         a1  Anthony  Jakarta     87654321  anthony@anotherbank.com                sa1      c2    12123434        70000.0  ACTIVE      37000.0      0.0\n",
      "40  1.577956e+12         a1  Anthony  Jakarta     87654321  anthony@anotherbank.com                sa1      c2    12123434        70000.0  ACTIVE          0.0  15000.0\n",
      "48  1.577956e+12         a1  Anthony  Jakarta     87654321  anthony@anotherbank.com                sa1      c2    12123434        70000.0  ACTIVE      37000.0  15000.0\n",
      "49  1.578159e+12         a1  Anthony  Jakarta     87654321  anthony@anotherbank.com                sa1      c2    12123434        70000.0  ACTIVE      37000.0  15000.0\n",
      "41  1.578159e+12         a1  Anthony  Jakarta     87654321  anthony@anotherbank.com                sa1      c2    12123434        70000.0  ACTIVE          0.0  15000.0\n",
      "50  1.578649e+12         a1  Anthony  Jakarta     87654321  anthony@anotherbank.com                sa1      c2    12123434        70000.0  ACTIVE      37000.0  40000.0\n",
      "42  1.578649e+12         a1  Anthony  Jakarta     87654321  anthony@anotherbank.com                sa1      c2    12123434        70000.0  ACTIVE          0.0  40000.0\n",
      "43  1.578654e+12         a1  Anthony  Jakarta     87654321  anthony@anotherbank.com                sa1      c2    12123434        70000.0  ACTIVE          0.0  21000.0\n",
      "51  1.578654e+12         a1  Anthony  Jakarta     87654321  anthony@anotherbank.com                sa1      c2    12123434        70000.0  ACTIVE      37000.0  21000.0\n",
      "52  1.579079e+12         a1  Anthony  Jakarta     87654321  anthony@anotherbank.com                sa1      c2    12123434        70000.0  ACTIVE      37000.0  21000.0\n",
      "44  1.579079e+12         a1  Anthony  Jakarta     87654321  anthony@anotherbank.com                sa1      c2    12123434        70000.0  ACTIVE          0.0  21000.0\n",
      "45  1.579298e+12         a1  Anthony  Jakarta     87654321  anthony@anotherbank.com                sa1      c2    12123434        70000.0  ACTIVE          0.0  21000.0\n",
      "53  1.579298e+12         a1  Anthony  Jakarta     87654321  anthony@anotherbank.com                sa1      c2    12123434        70000.0  ACTIVE      37000.0  21000.0\n",
      "46  1.579505e+12         a1  Anthony  Jakarta     87654321  anthony@anotherbank.com                sa1      c2    12123434        70000.0  ACTIVE          0.0  33000.0\n",
      "54  1.579505e+12         a1  Anthony  Jakarta     87654321  anthony@anotherbank.com                sa1      c2    12123434        70000.0  ACTIVE      37000.0  33000.0\n",
      "Total transaction for card c2:  13\n"
     ]
    }
   ],
   "source": [
    "c2_df = final_merged_df.where(final_merged_df[\"card_id\"] == \"c2\").dropna()\n",
    "c2_df[\"balance_changed\"] = c2_df.groupby(\"card_id\")[\"balance\"].transform(lambda x: x.shift() !=x)\n",
    "c2_df[\"credit_changed\"] = c2_df.groupby(\"card_id\")[\"credit_used\"].transform(lambda x: x.shift() !=x)\n",
    "\n",
    "c2_df[\"is_transaction\"] = c2_df[\"balance_changed\"] | c2_df[\"credit_changed\"]\n",
    "total_transaction_c2 = c2_df[\"is_transaction\"].sum()\n",
    "\n",
    "print(f\"\\nHistorical Table of Anthoy with card_id c2: \\n\\n\",c2_df[cols].to_string())\n",
    "print(f\"Total transaction for card c2: \",total_transaction_c2)"
   ]
  }
 ],
 "metadata": {
  "kernelspec": {
   "display_name": "Python 3",
   "language": "python",
   "name": "python3"
  },
  "language_info": {
   "codemirror_mode": {
    "name": "ipython",
    "version": 3
   },
   "file_extension": ".py",
   "mimetype": "text/x-python",
   "name": "python",
   "nbconvert_exporter": "python",
   "pygments_lexer": "ipython3",
   "version": "3.7.6"
  }
 },
 "nbformat": 4,
 "nbformat_minor": 5
}
